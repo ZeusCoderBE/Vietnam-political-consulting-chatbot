{
 "cells": [
  {
   "cell_type": "markdown",
   "metadata": {},
   "source": [
    "### 1.Import library"
   ]
  },
  {
   "cell_type": "code",
   "execution_count": 1,
   "metadata": {},
   "outputs": [],
   "source": [
    "import json\n",
    "from langchain_huggingface import HuggingFaceEmbeddings\n",
    "import os\n",
    "from langchain_experimental.text_splitter import SemanticChunker\n",
    "from langchain.docstore.document import Document\n",
    "from langchain_qdrant import QdrantVectorStore, RetrievalMode\n",
    "from fastembed import  SparseTextEmbedding\n",
    "from dotenv import load_dotenv"
   ]
  },
  {
   "cell_type": "markdown",
   "metadata": {},
   "source": [
    "### 2.Store"
   ]
  },
  {
   "cell_type": "markdown",
   "metadata": {},
   "source": [
    "> Load json"
   ]
  },
  {
   "cell_type": "code",
   "execution_count": 2,
   "metadata": {},
   "outputs": [],
   "source": [
    "# Đọc dữ liệu từ tệp JSON\n",
    "with open('../data/data_origin/output_data.json', 'r', encoding='utf-8') as json_file:\n",
    "    documents = json.load(json_file)"
   ]
  },
  {
   "cell_type": "code",
   "execution_count": 3,
   "metadata": {},
   "outputs": [
    {
     "name": "stdout",
     "output_type": "stream",
     "text": [
      "[\n",
      "  {\n",
      "    \"id\": 1,\n",
      "    \"keyword\": \"Tư tưởng Hồ Chí Minh\",\n",
      "    \"keyword_sub\": \"không có nguyên lý\",\n",
      "    \"word_type\": \"động từ tiêu cực\",\n",
      "    \"link\": \"https://www.vietnamplus.vn/gia-tri-ly-luan-va-thuc-tien-cua-tu-tuong-ho-chi-minh-post235139.vnp\",\n",
      "    \"content\": \"Giá trị lý luận và thực tiễn của tư tưởng Hồ Chí Minh\\nTTXVN giới thiệu bài viết của Phó giáo sư-tiến sỹ Nguyễn Hoàng Giáp với nhan đề “Giá trị lý luận và thực tiễn của tư tưởng Hồ Chí Minh-Vấn đề không thể phủ nhận.”\\nGần đây, trên một số trang thông tin có đăng tải bài viết với nội dung luận bàn về “Những ảo tưởng của Đảng Cộng sản Việt Nam về tư tưởng Hồ Chí Minh”; hoặc: “Đảng Cộng sản Việt Nam giương cao ngọn cờ tư tưởng Hồ Chí Minh, nhưng chỉ nói mà không làm”... Đây là suy nghĩ của những người thiếu thiện chí, cố tình xuyên tạc đường lối đổi mới do Đảng Cộng sản Việt Nam khởi xướng và lãnh đạo, nhưng lại núp dưới danh nghĩa “tự do ngôn luận, dân chủ, xây dựng, góp ý!?.”\\nLời nói và hành động của họ bộc lộ thái độ hằn học, động cơ kích động, âm mưu gây mất ổn định chính trị, phá hoại công cuộc xây dựng đất nước của nhân dân ta. Mặc dầu trong các bài viết, họ cố tình trích dẫn kiểu gọt chân cho vừa giày, cắt xén lời nói của nhân vật này, học giả nọ, để minh chứng cho lời nói của mình là có cơ sở.Tuy nhiên, có thể dễ dàng nhận thấy những nhận định, lập luận mang nặng tư duy suy luận chủ quan, vô căn cứ và thiếu khoa học. Hãy thử xem họ là ai và những gì là sự thật đằng sau lời nói, bài viết của họ!\\nKhông cần nói cũng có thể biết tác giả của những bài viết xuyên tạc về tình hình đất nước, bôi nhọ hình ảnh lãnh tụ, kích động, phá hoại đường lối của Đảng, đa phần là những người bất mãn về chính trị, hiện đang sống nhờ bằng những đồng tiền do các thế lực thù địch bên ngoài chu cấp.Một bộ phận khác, không hẳn xuất phát từ động cơ kinh tế, nhưng là những người nhẹ dạ, thiếu hiểu biết, nên bị lợi dụng, trở thành những “cái loa” phát ngôn không công cho lực lượng chống đối chế độ, đi ngược lại lợi ích dân tộc, đất nước. Tại sao có thể khẳng định như vậy?Bởi vì, không chỉ đơn thuần trên danh nghĩa “tự do ngôn luận” hay có sự “bất đồng quan điểm” (với lý do khác nhau về ý thức hệ) để “nói lấy được,” mà muốn đánh giá hay phê phán về một vấn đề, một con người hoặc một luận thuyết, phải nhìn nhận khách quan từ nhiều phía, đặc biệt là từ góc độ giá trị lịch sử, nhân văn, đạo đức, phải dựa trên những giá trị chuẩn mực truyền thống tốt đẹp của dân tộc.Không thể cứ cao đạo cho rằng, mình là người yêu Tổ quốc, trong khi hành động và lời nói đi ngược lại lợi ích của nhân dân. Đối với người Việt Nam, việc đánh giá chuẩn mực đạo đức của một cá nhân, hay giá trị của một luận thuyết, không phải xuất phát từ tiêu chuẩn bên trong của nó, mà xuất phát từ lợi ích của Tổ quốc: “Học thuyết nào cứu được nước, giúp được dân thì sẽ được ưa thích, lựa chọn”1.Trên ý nghĩa đó, sự khẳng định: \\\"Tư tưởng Hồ Chí Minh là một hệ thống quan điểm toàn diện và sâu sắc về những vấn đề cơ bản của cách mạng Việt Nam, là kết quả của sự vận dụng và phát triển sáng tạo chủ nghĩa Mác-Lênin vào điều kiện cụ thể của nước ta, kế thừa và phát triển các giá trị truyền thống tốt đẹp của dân tộc, tiếp thu tinh hoa văn hóa nhân loại... là tài sản tinh thần vô cùng to lớn và quý giá của Đảng và dân tộc ta, mãi mãi soi đường cho sự nghiệp cách mạng của nhân dân ta giành thắng lợi\\\"2.\\nĐó là sự khái quát khoa học, xuất phát từ cơ sở lý luận và thực tiễn của sự hình thành tư tưởng Hồ Chí Minh. Đồng thời khẳng định một cách chắc chắn rằng, tư tưởng Hồ Chí Minh không bao giờ là “ảo tưởng”, bởi giá trị lý luận và thực tiễn của những quan điểm khoa học và cách mạng trong tư tưởng Hồ Chí Minh đó được thực tiễn lịch sử cách mạng Việt Nam kiểm nghiệm, minh chứng là hoàn toàn đúng đắn.Thật ra, những quan điểm cho rằng: “Tư tưởng Hồ Chí Minh chỉ là sự ảo tưởng” cũng không phải là vấn đề gì mới. Cách đây hơn 20 năm (1992), cũng đã rộ lên những ý kiến cho rằng: “Không có tư tưởng Hồ Chí Minh”; \\\"Tư tưởng Hồ Chí Minh chỉ là sự huyễn hoặc!?.\\\" Về vấn đề này, giáo sư, Anh hùng Lao động Trần Văn Giàu đã nhận xét: \\\"Những người nói rằng không có tư tưởng Hồ Chí Minh gồm 3 loại. Loại thứ nhất nói có ác ý: \\\"Người Việt Nam chỉ có tài bắt chước, vẹt lại những người giỏi cổ kim Đông Tây ở nước ngoài chớ không có sáng tạo tư tưởng gì hết; đến ông Hồ kia mà còn chẳng có tư tưởng gì đặc sắc cao sâu, huống chi những người khác.\\\"Loại thứ nhì, không xô bồ đến thế, cho rằng nếu trong cách mạng và kháng chiến Việt Nam, mà có những nhà lý luận, nhà tư tưởng thì đó là Võ Nguyên Giáp, là Trường Chinh chớ không phải là Hồ Chí Minh. Hồ Chí Minh chỉ là người có tài tập hợp lực lượng, là người hành động giỏi, xuất sắc.Loại thứ ba gồm những người nói rằng, Hồ Chí Minh không phải là người sáng tạo lý luận tư tưởng. Cụ gần như không có tác phẩm nào chuyên bàn về lý luận, tư tưởng. Cụ không như Lênin, không như Mao Trạch Đông, tuy rằng Toàn tập Hồ Chí Minh dài nhiều vạn chữ. Cụ Hồ chỉ là người đọc nhiều, nhớ nhiều, giỏi chọn những mẩu tư tưởng của người khác xưa nay và Đông - Tây rồi đem ra dùng đúng lúc, gây ấn tượng và đạt hiệu quả tuyên truyền giáo dục cao\\\"3.Bác bỏ những ý kiến “ác ý” trên đây, giáo sư Trần Văn Giàu phân tích: \\\"Nói rằng không có gì là \\\"tư tưởng Hồ Chí Minh\\\" thì cũng giống như nói rằng Cách mạng tháng Tám 1945 chỉ là việc lanh tay, lẹ chân, chìa cái rổ ra hứng quả chín đang rơi; cũng như nói rằng Pháp vốn là người thừa kế truyền thống cách mạng 1789 nên vui lòng nhả miếng mồi Đông Dương; cũng như nói rằng Mỹ giàu sụ rồi không thiết gì nữa đến việc giữ Nam Việt Nam, bèn rút quân nửa triệu và 1000 máy bay về nước cho đỡ mệt lo... Tư tưởng Hồ Chí Minh là toàn bộ tư tưởng chỉ đạo trong suốt thời kỳ lịch sử cách mạng và kháng chiến dài nửa thế kỷ\\\"4.Theo ý kiến của giáo sư Trần Văn Giàu, dù muốn hay không, những người phủ nhận tư tưởng Hồ Chí Minh cũng phải thừa nhận một sự thật lịch sử, đó là dưới sự lãnh đạo của Đảng Cộng sản Việt Nam - một Đảng mácxít chân chính, do lãnh tụ Hồ Chí Minh sáng lập và rèn luyện, đã đưa sự nghiệp giải phóng dân tộc của nhân dân Việt Nam đến thắng lợi hoàn toàn. Thành quả của Cách mạng Tháng Tám 1945, đã phá tan xiềng xích nô lệ, vĩnh viễn xóa bỏ ách áp bức, bóc lột của chế độ thực dân, phong kiến, lập nên Nhà nước Việt Nam Dân chủ Cộng hòa, mở ra kỷ nguyên mới trong lịch sử nước ta, kỷ nguyên độc lập dân tộc và tiến lên chủ nghĩa xã hội.Tư tưởng Hồ Chí Minh, trong đó nội dung cốt lõi là độc lập dân tộc gắn liền với chủ nghĩa xã hội, đã trở thành tư tưởng chỉ đạo xuyên suốt tiến trình cách mạng Việt Nam. Giương cao ngọn cờ tư tưởng Hồ Chí Minh, cả dân tộc Việt Nam đoàn kết một lòng, bằng ý chí, quyết tâm giữ gìn sự thống nhất, toàn vẹn lãnh thổ thiêng liêng của Tổ quốc, bảo vệ nền độc lập, tự do trường tồn của dân tộc, đã vượt qua muôn vàn gian khổ, hy sinh để giành thắng lợi trong hai cuộc kháng chiến chống ngoại xâm, hoàn thành sự nghiệp thống nhất đất nước.Nói về giá trị tư tưởng Hồ Chí Minh và những cống hiến của Người đối với sự nghiệp đấu tranh giành độc lập của Việt Nam và phong trào cách mạng giải phóng dân tộc trên thế giới, Tổ chức Giáo dục, Khoa học và Văn hóa của Liên hợp quốc (UNESCO), đã khẳng định: “Chủ tịch Hồ Chí Minh là một biểu tượng kiệt xuất về quyết tâm của cả dân tộc, đã cống hiến trọn đời mình cho sự nghiệp giải phóng dân tộc của nhân dân Việt Nam, góp phần vào cuộc đấu tranh chung của các dân tộc vì hòa bình, độc lập dân tộc, dân chủ và tiến bộ xã hội”5.Nhà báo, nhà sử học Pháp J.Lacuture đánh giá: “Hồ Chí Minh đã làm hồi sinh một dân tộc, thiết lập nên một quốc gia, tiến hành hai cuộc chiến tranh mà căn bản là chiến tranh của nhân dân bị áp bức”6.Với tư cách là người đi tiên phong trong phong trào giải phóng dân tộc, Hồ Chí Minh đã góp phần quan trọng vào quá trình “phi thực dân hóa”, làm sụp đổ hoàn toàn chủ nghĩa thực dân cũ trên phạm vi toàn thế giới. Tư tưởng Hồ Chí Minh thể hiện khát khao giải phóng đồng bào mình, dân tộc mình thoát khỏi áp bức bất công, đồng thời đấu tranh để giải phóng tất cả các dân tộc khác trên thế giới thoát khỏi chế độ áp bức của chủ nghĩa thực dân.Tiến sỹ Ahmed - Nguyên Giám đốc UNESCO khu vực châu Á-Thái Bình Dương đã nhận xét: “Chỉ có ít nhân vật lịch sử trở thành một bộ phận của huyền thoại khi còn sống và rõ ràng cụ Hồ Chí Minh là một trong số đó; Người sẽ được ghi nhớ không phải chỉ là người giải phóng cho Tổ quốc và nhân dân bị đô hộ, mà còn là một nhà hiền triết hiện đại đã mang lại một viễn cảnh và hy vọng mới cho những người đấu tranh không khoan nhượng để loại bỏ bất công, bất bình đẳng khỏi trái đất này”7.Nhà báo, nhà hoạt động chính trị Mexico Ignacio Gonzalez Janzen khẳng định rằng: “Chủ tịch Hồ Chí Minh không chỉ là một lãnh tụ xuất chúng của dân tộc mình, một yếu nhân của quá trình phi thực dân hóa trong thế kỉ XX, mà đặc biệt còn là một người thầy vĩ đại trong môn học giành tự do cho các dân tộc,... chủ đề chính của tất cả các nền văn hóa và là mục tiêu hàng đầu của nhân loại”8. Còn rất nhiều ý kiến đánh giá của các chính khách, các nhà nghiên cứu, thậm chí của những “đối thủ một thời” của Hồ Chí Minh, họ đều thống nhất nhận định về giá trị lý luận và cống hiến xuất sắc của Người đối với sự nghiệp cách mạng giải phóng dân tộc.Giáo sư Paul Mus - Đại diện của Cao ủy Pháp ở Đông Dương, Trưởng đoàn đàm phán của Pháp với Chính phủ Việt Nam ở Thái Nguyên (5/1947), đã viết: “Cụ Hồ là một trong những người đã đem lại sự kiêu hãnh và sức mạnh cho lục địa châu Á”9.Học giả David Halberstam cho rằng: “Lúc sinh thời, ông Hồ Chí Minh không những đã giải phóng đất nước của ông, mà thay đổi chiều hướng của chế độ thuộc địa ở cả châu Phi lẫn châu Á...”10.Học giả Wiliam J. Duiker, người đã dành 20 năm để nghiên cứu về Hồ Chí Minh đưa ra ý kiến: “...người ta cũng không phủ nhận được rằng, sự nghiệp mà ông thúc đẩy và chỉ đạo tạo ra những thời khắc có một không hai trong thế kỷ 20, là đỉnh cao của kỷ nguyên giải phóng dân tộc ở thế giới thứ ba”11.Không chỉ là ý kiến của những học giả chuyên nghiên cứu về Hồ Chí Minh, giá trị tư tưởng và những cống hiến của Hồ Chí Minh về cách mạng giải phóng dân tộc, còn được một tổ chức bình chọn gồm 300 nhà khoa học nổi tiếng trên thế giới, đưa vào cuốn Từ điển tiểu sử các nhà văn hóa thế kỷ 20 (XX Century culture), do Alan Bullock và R.B.Wodinger (đồng chủ biên), nhà xuất bản Harper and Row ấn hành năm 1983. Trong quá trình xây dựng cuốn sách này, khi thảo luận về Hồ Chí Minh, 300 nhà khoa học đều thống nhất cho rằng: “Hồ Chí Minh là người khởi xướng và giương cao ngọn cờ giải phóng các dân tộc thuộc địa và trở thành người dẫn đường chủ chốt được mặc nhiên thừa nhận và kính trọng của châu Á và thế giới thứ ba”12.Sự đánh giá, khẳng định giá trị lý luận và thực tiễn tư tưởng Hồ Chí Minh về cách mạng giải phóng dân tộc của UNESCO, của các tổ chức khoa học và những nhà hoạt động chính trị, những học giả có uy tín trên thế giới, chắc hẳn không chỉ “dựa vào cảm tính” hay chỉ là sự “ảo tưởng”!Khi nói về tư tưởng Hồ Chí Minh về chủ nghĩa xã hội và con đường quá độ lên chủ nghĩa xã hội ở Việt Nam và một số nội dung tư tưởng khác của Người, những người phủ nhận tư tưởng Hồ Chí Minh đã lấy dẫn chứng từ những sai lầm trong cải cách ruộng đất (từ thập niên 50 của thế kỷ trước), những yếu kém, trì trệ của cơ chế quản lý quan liêu bao cấp và sự khủng hoảng, dẫn đến sụp đổ của hệ thống các nước xã hội chủ nghĩa ở Đông Âu và Liên Xô (cuối thế kỷ XX), để quy kết và phán xét. Tuy nhiên, có thể thấy sự “phán xét” của họ xuất phát từ hiện tượng, mà không có sự suy xét, nghiên cứu một cách nghiêm túc, không nhìn nhận từ bản chất, nguồn gốc của vấn đề, mà giống như kiểu: “thầy bói xem voi”!Bởi vì, nếu những ai đã nghiên cứu tư tưởng Hồ Chí Minh về chủ nghĩa xã hội và con đường quá độ lên chủ nghĩa xã hội một cách thấu đáo, chắc hẳn đều nhận thấy rằng đó là những quan điểm xuất phát từ đặc điểm, điều kiện lịch sử Việt Nam và giàu tính hiện thực.Trước hết, Hồ Chí Minh khẳng định tính ưu việt của chế độ xã hội chủ nghĩa, với mục tiêu cao cả là xóa bỏ chế độ người bóc lột người; giải phóng con người khỏi mọi sự áp bức, bất công, hướng tới xây dựng một chế độ xã hội: “không có người bóc lột người, mọi người sung sướng, vẻ vang, tự do, bình đẳng, xứng đáng là thế giới của loài người”13.Tuy nhiên, Hồ Chí Minh không hề “ảo tưởng,” mà bằng cái nhìn lịch sử cụ thể, Người nhận thấy điều kiện, đặc điểm kinh tế - xã hội nước ta, một nước nông nghiệp lạc hậu, có xuất phát điểm thấp, chưa kinh qua giai đoạn phát triển tư bản chủ nghĩa, do đó Người xác định mục tiêu ban đầu của thời kỳ quá độ lên chủ nghĩa xã hội ở nước ta là: “Làm cho người nghèo thì đủ ăn. Người giàu thì giàu thêm. Người nào cũng biết chữ. Người nào cũng biết đoàn kết, yêu nước”14. Người còn nói: “chủ nghĩa xã hội là mọi người cùng ra sức lao động sản xuất để được ăn no, mặc ấm và có nhà ở sạch sẽ”15; và: “xã hội ngày càng tiến, vật chất ngày càng tăng, tinh thần ngày càng tốt, đó là chủ nghĩa xã hội”16. Cụ thể hơn, Hồ Chí Minh cho rằng, chủ nghĩa xã hội phải: “có công nghiệp và nông nghiệp hiện đại, có văn hóa và khoa học tiên tiến”17; về chính trị, xã hội xã hội chủ nghĩa là do nhân dân làm chủ, bao nhiêu lợi ích đều vì dân, bao nhiêu quyền hạn đều của dân, quyền hành và lực lượng đều ở mọi người dân, tất cả cán bộ, công chức nhà nước đều là công bộc của dân.Hồ Chí Minh cũng chỉ ra rằng, con đường đi lên chủ nghĩa xã hội hoàn toàn không bằng phẳng, mà có vô vàn khó khăn, phức tạp phải vượt qua. Người nhận định: “Xây dựng chủ nghĩa xã hội là một cuộc đấu tranh cách mạng phức tạp, gian khổ và lâu dài”18; “ai nói dễ là chủ quan và sẽ thất bại”19, bởi: “biến đổi một xã hội cũ thành một xã hội mới không phải chuyện dễ”; “thắng đế quốc, phong kiến là không dễ; thắng bần cùng, lạc hậu còn khó khăn hơn nhiều”20.Theo Hồ Chí Minh, thời kỳ quá độ lên chủ nghĩa xã hội ở Việt Nam phải trải qua nhiều bước, “bước ngắn, bước dài tùy theo hoàn cảnh”; nhưng “chớ ham làm mau, ham rầm rộ. Đi bước nào vững vàng, chắc chắn bước ấy, cứ tiến tới dần dần”21. Người căn dặn, phải nêu cao tinh thần độc lập, tự chủ, sáng tạo, chống giáo điều dập khuôn kinh nghiệm nước ngoài: “Ta không thể giống Liên Xô, vì Liên Xô có phong tục tập quán khác, có lịch sử địa lý khác...Ta có thể đi con đường khác để tiến lên chủ nghĩa xã hội”22.Ngày nay, nhìn nhận lại những quan niệm của Hồ Chí Minh về chủ nghĩa xã hội và con đường quá độ lên chủ nghĩa xã hội ở Việt Nam một cách nghiêm túc, đánh giá một cách khách quan khoa học, chắc hẳn tất cả mọi người đều thấy rằng, những quan niệm và chỉ dẫn của Hồ Chí Minh vẫn còn nguyên giá trị lý luận và thực tiễn sâu sắc.Nghiên cứu tư tưởng Hồ Chí Minh về chủ nghĩa xã hội và con đường quá độ lên chủ nghĩa xã hội, đó có nhiều chính khách, nhiều học giả trên thế giới bình luận, đánh giá một cách khách quan về ý nghĩa và giá trị hiện thực. Viện sĩ thông tấn Viện Hàn lâm khoa học Nga V.M. Xônxép cho rằng: “Trong thế giới đầy năng động của chúng ta ngày nay đang diễn ra những biến đổi lớn lao...Khái niệm của chúng ta về chủ nghĩa xã hội, về các con đường và các phương pháp xây dựng chủ nghĩa xã hội cũng thay đổi. Nhưng trong mọi biến đổi cũng có một số điều quan trọng không hề thay đổi. Đó là lý tưởng xã hội chủ nghĩa, các tư tưởng nhân đạo chủ nghĩa, tự do, dân chủ và công bằng xã hội, mà Chủ tịch Hồ Chí Minh, nhà yêu nước vĩ đại, người theo chủ nghĩa quốc tế đã cống hiến trọn đời mình cho những lý tưởng đó. Năm tháng sẽ qua đi nhưng nhân loại tiến bộ nhớ mãi tên tuổi và sự nghiệp của Chủ tịch Hồ Chí Minh”23.Tất nhiên, không có cái gì là tuyệt đối. Trên quan điểm đó mà suy xét, thì Hồ Chí Minh là một vĩ nhân chứ không phải là một thánh nhân, cho nên cũng có thể có những hạn chế lịch sử. Song nếu những ai đó, cố tình quy kết tất cả sai lầm trong quá khứ của một số người lãnh đạo, của một số đảng cộng sản trên thế giới; nhìn vào sự khủng hoảng và sụp đổ của hệ thống các nước xã hội chủ nghĩa, để lấy cớ phủ nhận tất cả những giá trị đích thực của chủ nghĩa xã hội; để bôi nhọ, xuyên tạc hình ảnh những lãnh tụ chân chính như Chủ tịch Hồ Chí Minh - người đó góp phần to lớn vào sự phát triển của dân tộc và thời đại, lại là một sai lầm không thể chấp nhận được.Đối với Đảng Cộng sản Việt Nam, tại các kỳ đại hội của mình, đều có sự tổng kết, đánh giá, rút ra những bài học kinh nghiệm thành công và cả những sai lầm mắc phải trong quá trình lãnh đạo cách mạng, không hề che giấu khuyết điểm. Đặc biệt, tại Đại hội đại biểu toàn quốc lần thứ VI (1986), Đảng Cộng sản Việt Nam đó nghiêm khắc nhìn nhận những sai lầm trong chủ trương, đường lối và trong chỉ đạo thực hiện. Trên cơ sở vận dụng sáng tạo những nguyên lý của chủ nghĩa Mác-Lênin, tư tưởng Hồ Chí Minh, Đảng đã đề ra đường lối đổi mới toàn diện, đưa nước ta thoát khỏi khủng hoảng, vững bước đi lên. Từ một nước đói nghèo, sau gần 25 năm, Việt Nam trở thành một nước phát triển trung bình, có nhiều lĩnh vực đứng đầu thế giới. Thành công đó là một sự thật lịch sử, không ai có thể phủ nhận được.Thắng lợi của sự nghiệp đổi mới là: “hết sức to lớn và có ý nghĩa lịch sử”. Thắng lợi đó, bắt nguồn từ sự kiên định mục tiêu: “Độc lập dân tộc và chủ nghĩa xã hội” mà Chủ tịch Hồ Chí Minh và nhân dân ta đã lựa chọn. Vì vậy, những người cố tình rêu rao: “Đảng Cộng sản Việt Nam giương cao ngọn cờ tư tưởng Hồ Chí Minh, nhưng chỉ nói mà không làm”, chỉ là những người cố tình đi ngược lại lợi ích dân tộc và xu thế phát triển của thời đại, chẳng khác nào “những kẻ lấy súng bắn vào lịch sử”. Số phận của họ, như Hoàng đế Pháp Napoleon Bonaparte đã nói: “sẽ bị lịch sử nghiền nát.”Về vấn đề này, học giả Wiliam J. Duiker khẳng định: “Bất kể cuối cùng người đời phán xét về di sản của ông Hồ để lại cho dân tộc mình ra sao, ông Hồ đã chiếm được một chỗ trong ngôi đền thờ những anh hùng cách mạng từng đấu tranh mạnh mẽ để những người cùng khổ trên thế giới có được tiếng nói đích thực của họ.”24.Cuối cùng, thay cho lời kết bài viết này, xin dẫn lời phát biểu của bà Katherine Muller Martin - Trưởng đại diện Văn phòng UNESCO Khu vực châu Á - Thái Bình Dương, tại Hội thảo quốc tế nhân dịp kỷ niệm 120 năm ngày sinh của Chủ tịch Hồ Chí Minh: “...những đóng góp quan trọng và nhiều mặt của Người trong các lĩnh vực văn hóa, giáo dục và nghệ thuật kết tinh truyền thống văn hóa của Việt Nam, một truyền thống có từ nhiều nghìn năm trước, và những lý tưởng của Người tiêu biểu cho khát vọng các dân tộc khác trên thế giới bởi họ đấu tranh nhằm khẳng định bản sắc văn hóa của mình và thúc đẩy sự hiểu biết lẫn nhau”25.Trên ý nghĩa đó, có thể khẳng định về giá trị trường tồn của tư tưởng Hồ Chí Minh: “Thế giới đã và sẽ còn đổi thay, nhưng tư tưởng Hồ Chí Minh vẫn sống mãi trong kho tàng văn hóa nhân loại”26./.1. Những vấn đề văn hóa Việt Nam hiện đại, Nxb Giáo dục, H. 1998, trang 184.2 Đảng Cộng sản Việt Nam: Văn kiện Đại hội đại biểu toàn quốc lần thứ IX, NXB.CTQG.H. 2001, tr. 833 Trần Văn Giàu: Sự hình thành về cơ bản tư tưởng Hồ Chí Minh, Nxb CTQG, H, 1997, tr. 8.4 Trần Văn Giàu: Sự hình thành về cơ bản tư tưởng Hồ Chí Minh, Nxb CTQG, H, 1997, tr. 12.5 Trích Nghị quyết 24c/18.65 của Đại hội đồng UNESCO khóa 24-19876 J.Lacuture: Hồ Chí Minh, NXB. Seuil, Paris 1967, tr. 3-4.7 Dẫn theo Trần Văn Giàu: Nghiên cứu Tư tưởng Hồ Chí Minh, tập 2, Viện Hồ Chí Minh xuất bản, H.1993, tr. 42.8 Thế giới ca ngợi và thương tiếc Hồ Chí Minh, NXB.Sự thật, H. 1976. tr.146.9 Paul Mus: Ho Chi Minh, Le Vietnam , L'Asie. (Hồ Chí Minh, Việt Nam và châu Á).Paris, Seuil, 1971, tr.5.10 C.P. Ragiô: Hồ Chí Minh, NXB Đại học, Paris 1970. (bản tiếng Việt), tr 195.11 Wiliam J. Duiker: Hồ Chí Minh, (Hồ Chí Minh), Hyperion, New York 2000,. Bản dịch tiếng Việt tr. 388.12 Dẫn theo Tạp chí Heral Tribune, ngày 8/10/1993.13 Hồ Chí Minh: Toàn tập, tập 9, NXB.CTQG.H.2002. tr.324.14 Hồ Chí Minh: Toàn tập, tập 5, NXB.CTQG.H.2002. tr. 65.15 Hồ Chí Minh: Toàn tập, tập 10, NXB.CTQG.H.2002. tr.258.16 Hồ Chí Minh: Toàn tập, tập 10, NXB.CTQG.H.2002. tr.591.17 Hồ Chí Minh: Toàn tập, tập 10, NXB.CTQG.H.2002. tr.14.18 Hồ Chí Minh: Toàn tập, tập 10, NXB.CTQG.H.2002. tr. 243.19 Hồ Chí Minh: Toàn tập, tập 9. NXB.CTQG.H.2002. tr. 2.20 Hồ Chí Minh: Toàn tập, tập 10, NXB.CTQG.H.2002. tr.4.21 Hồ Chí Minh: Toàn tập, tập 7, NXB.CTQG.H.2002. tr. 539-540.22 Hồ Chí Minh: Toàn tập, tập 8, NXB.CTQG.H.2002. tr. 227.23 Trung tâm KHXH&NV quốc gia - Ủy ban UNESCO của Việt Nam : Chủ tịch Hồ Chí Minh - Anh hùng giải phóng dân tộc, Nhà văn hóa lớn. NXB.KHXH.H.1995. tr. 120.24 W.Duiker: Ho Chi Minh: A Life. Epilogue, p. 57625 Dẫn theo: Tạp chí Lịch sử Đảng số 6/2010, tr.326 Võ Nguyên Giáp: Tư tưởng Hồ Chí Minh, qúa trình hình thành và phát triển. NXB.Sự thật. H.1993.tr.73.\"\n",
      "  },\n",
      "  {\n",
      "    \"id\": 2,\n",
      "    \"keyword\": \"Tư tưởng Hồ Chí Minh\",\n",
      "    \"keyword_sub\": \"không có nguyên lý\",\n",
      "    \"word_type\": \"động từ tiêu cực\",\n",
      "    \"link\": \"https://loigiaihay.com/co-so-phuong-phap-luan-c124a20321.html#:~:text=Nghi%C3%AAn%20c%E1%BB%A9u%20t%C6%B0%20t%C6%B0%E1%BB%9Fng%20H%E1%BB%93%20Ch%C3%AD\",\n",
      "    \"content\": \"Cơ sở phương pháp luận\\n1. Cơ sở phương pháp luận\\nNghiên cứu, giảng dạy, học tập môn học Tư tưởng Hồ Chí Minh phải trên cơ sở thế giới quan, phương pháp luận khoa học của chủ nghĩa Mác - Lênin và bản thân các quan điểm có giá trị phương pháp luận của Hồ Chí Minh. Trong đó,các nguyên lý triết học Mác—Lênin với tư cách là phương pháp luận chung của các ngành khoa học cần phải được sử dụng như một công cụ tư duy quan trọng. Dưới đây là một số nguyên tắc phương pháp luận trong nghiên cứu tư tưởng Hồ Chí Minh.\\na) Bảo đảm sự thống nhất nguyên tắc tính đảng và tính khoa học\\nNghiên cứu tư tưởng Hồ Chí Minh phải đứng trên lập trường, quan điểm, phương pháp luận chủ nghĩa Mác - Lênin và quan điểm, đường lối của Đảng Cộng sản Việt Nam: bảo đảm tính khách quan khi phân tích, lý giải và đánh giá tư tưởng Hồ Chí Minh, tránh việc áp đặt, cường điệu hóa hoặc hiện đại hóa tư tưởng của Người. Tính đảng và tính khoa học thống nhất với nhau trong sự phản ánh trung thực, khách quan tư tưởng Hồ Chí Minh trên cơ sở lập trường, phương pháp luận và định hướng chính trị.\\nb)     Quan điểm thực tiễn và nguyên tắc lý luận gắn liền với thực tiễn\\nChủ nghĩa Mác - Lênin cho rằng, thực tiễn là nguồn gốc, là động lực của nhận thức, là cơ sở và là tiêu chuẩn của chân lý. Trong cuộc đời hoạt động cách mạng của mình. Hồ Chí Minh luôn bám sát thực tiễn cách mạng dân tộc và thế giới, coi trọng tổng kết thực tiễn như là biện pháp không chỉ nâng cao năng lực hoạt động thực tiễn, mà còn là điều kiện để nâng cao trình độ lý luận. Đồng thời Người cũng đặc biệt coi trọng việc kết hợp lý luận với thực tiễn, lời nói đi đôi với việc làm. Hồ Chí Minh khẳng định: Thực tiễn không có lý luận hướng dẫn thi thành thực tiễn mù quáng, dễ mắc chủ quan; lý luận mà không liên hệ với thực tiễn là lý luận suông. Hồ Chí Minh là người luôn xuất phát từ thực tiễn Việt Nam, vận dụng và phát triển sáng tạo chủ nghĩa Mác - Lênin vào thực tiễn đất nước, đề ra đường lối cách mạng đúng đắn, lãnh đạo nhân dân ta vượt qua muôn vàn khó khăn, thử thách, giành được những thắng lợi vẻ vang.\\nVì vậy, nghiên cứu, học tập tư tưởng Hồ Chí Minh cần phải quán triệt quan điểm lý luận gắn liền với thực tiễn, học đi đôi với hành, phải biết vận dụng những kiến thức đã học vào cuộc sống, thực tiễn, phục vụ cho sự nghiệp cách mạng của đất nước.\\nc) Quan điểm lịch sử - cụ thể\\nCùng với chủ nghĩa duy vật biện chứng chúng ta cần vận dụng chủ nghĩa duy vật lịch sử vào việc nghiên cứu, học tập tư tưởng Hồ Chí Minh. Trong nghiên cứu khoa học, theo VI .Lenin, chúng ta không được quên mối liên hệ lịch sử căn bản, nghĩa là phải xem xét một hiện tượng nhất định đã xuất kiện trong lịch sử như thế nào, hiện tượng đó đã trải qua từng giai đoạn phát triển chủ yếu nào và đứng trên quan điểm của sự phát triển đó đề xem xét hiện nay nó đã trở hành như thế nào? Nắm vững quan điểm này giúp chúng ta nhận thức được bản chất tư tưởng Hồ Chí Minh.\\nd) Quan điểm toàn diện và hệ thống\\nTư tưởng Hồ Chí Minh là một hệ thống quan điểm toàn diện và sâu sắc về những vấn đề cơ bản của cách Mạng Việt Nam. Một yêu cầu về khoa học khi nghiên cứu tư tương Hồ Chí Minh trên bình diện tổng thể hay từng bộ phận là phải luôn luôn quán triệt mối liên hệ qua lại của các yếu tố, các nội dung khác nhau trong hệ thống tư tửơng đó và phải lấy hạt nhân cốt lõi là tư tưởng độc lập, tự do, dân chủ và chủ nghĩa xã hội. V.I.Lênin đã từng chỉ rõ: Muốn thực sự hiểu được sự vật thì cần phải nhìn bao quát và nghiên cứu tất cả các mặt, tất cả mối liên hệ và \\\"quan hệ gián tiếp\\\" của sự vật đó. Trong nghiên cứu tưởng Hồ Chí Minh, cần nắm vững và đầy đủ hệ thống các quan điểm của Người. Nếu tách rời một yếu tố nào đó khỏi hệ thống sẽ dẫn đến hiểu sai tư tưởng Hồ Chí Minh. Chẳng hạn tách rời độc lập dân tộc với chủ nghĩa xã hội là xa rời tư tưởng Hồ Chí Minh.\\ne) Quan điểm kế thừa và phát triển\\nHồ Chí Minh là một mẫu mực về sự vận dụng và phát triển sáng tạo chủ nghĩa Mác — Lênin vào điều kiện cụ thể của Việt Nam. Người đã bổ sung, phát triển sáng tạo chủ nghĩa Mác - Lênin trên nhiều lĩnh vực quan trọng và hình thành nên một hệ thống các quan điểm lý luận mới. Nghiên cứu, học tập tư tưởng Hồ Chí Minh đòi hỏi không chỉ biết kế thừa, vận dụng mà còn phải, biết phát triển sáng tạo tư tưởng của Người trong điều kiện lịch sử mới, trong bối cảnh cụ thể của đất nước và quốc tế.\\ng) Kết hợp nghiên cứu các tác phẩm với thực tiễn chỉ đạo cách mạng của Hồ Chí Minh\\nHồ Chí Minh là một nhà lý luận thực tiễn. Người xây dựng lý luận, vạch ra cương lĩnh, đường lối, chủ trương cách mạng và trực tiếp tổ chức, lãnh đạo thực hiện. Từ thực tiễn, Người tổng kết, bồ sung để hoàn chỉnh và phát triển lý luận, cho nên tư tưởng Hồ Chí Minh mang tính cách mạng, luôn luôn sáng tạo, không lạc hậu, giáo điều. Nghiên cứu tư tưởng Hồ Chí Minh không chỉ căn cứ vào các tác phẩm, bài viết, bài nói mà cần coi trọng hoạt động thực tiễn của Người thực tiễn cách mạng dưới sự tổ chức và lãnh đạo của Đảng do Người đứng đầu. Vì vậy, chỉ căn cứ vào các bài viết, bài nói, tác phẩm của Người là hoàn toàn chưa đầy đủ. Kết quả hành động thực tiễn, chủ nghĩa anh hùng cách mạng trong chiến đấu và xây dựng của nhân dân Việt Nam chính là lời giải thích rõ ràng giá trị khoa học cua tư tưởng Hồ Chí Minh.\\nChân lý là cụ thể, cách mạng là sáng tạo. Sự sáng tạo cách mạng của Hồ Chí Minh trước hết là sự sáng tạo về tư duy lý luận, về chiến lược, về đường lối cách mạng. Điều đó giữ vai trò quyết định hàng đầu dẫn đến thắng lợi cách mạng giải phóng dân tộc.Tư tưởng, lý luận cách mạng của Hồ Chí Minh đã góp phần làm phong phú thêm và phát triển lý luận cách mạng của thời đại, trước hết là về cách mạng giải phóng dân tộc. Tư tưởng Hồ Chí Minh đã tỏa sáng vượt ra ngoài biên giới quốc gia Việt nam đến với các dân tộc và nhân dân lao động thế giới.\"\n",
      "  }\n",
      "]\n"
     ]
    }
   ],
   "source": [
    "# Kiểm tra nội dung JSON đã tạo\n",
    "print(json.dumps(documents[:2], ensure_ascii=False, indent=2))  # In ra 5 tài liệu đầu tiên"
   ]
  },
  {
   "cell_type": "markdown",
   "metadata": {},
   "source": [
    ">Load environtment"
   ]
  },
  {
   "cell_type": "code",
   "execution_count": 4,
   "metadata": {},
   "outputs": [
    {
     "data": {
      "text/plain": [
       "True"
      ]
     },
     "execution_count": 4,
     "metadata": {},
     "output_type": "execute_result"
    }
   ],
   "source": [
    "load_dotenv()"
   ]
  },
  {
   "cell_type": "code",
   "execution_count": 5,
   "metadata": {},
   "outputs": [
    {
     "name": "stdout",
     "output_type": "stream",
     "text": [
      "Help on class SemanticChunker in module langchain_experimental.text_splitter:\n",
      "\n",
      "class SemanticChunker(langchain_core.documents.transformers.BaseDocumentTransformer)\n",
      " |  SemanticChunker(embeddings: langchain_core.embeddings.embeddings.Embeddings, buffer_size: int = 1, add_start_index: bool = False, breakpoint_threshold_type: Literal['percentile', 'standard_deviation', 'interquartile', 'gradient'] = 'percentile', breakpoint_threshold_amount: Optional[float] = None, number_of_chunks: Optional[int] = None, sentence_split_regex: str = '(?<=[.?!])\\\\s+', min_chunk_size: Optional[int] = None)\n",
      " |  \n",
      " |  Split the text based on semantic similarity.\n",
      " |  \n",
      " |  Taken from Greg Kamradt's wonderful notebook:\n",
      " |  https://github.com/FullStackRetrieval-com/RetrievalTutorials/blob/main/tutorials/LevelsOfTextSplitting/5_Levels_Of_Text_Splitting.ipynb\n",
      " |  \n",
      " |  All credits to him.\n",
      " |  \n",
      " |  At a high level, this splits into sentences, then groups into groups of 3\n",
      " |  sentences, and then merges one that are similar in the embedding space.\n",
      " |  \n",
      " |  Method resolution order:\n",
      " |      SemanticChunker\n",
      " |      langchain_core.documents.transformers.BaseDocumentTransformer\n",
      " |      abc.ABC\n",
      " |      builtins.object\n",
      " |  \n",
      " |  Methods defined here:\n",
      " |  \n",
      " |  __init__(self, embeddings: langchain_core.embeddings.embeddings.Embeddings, buffer_size: int = 1, add_start_index: bool = False, breakpoint_threshold_type: Literal['percentile', 'standard_deviation', 'interquartile', 'gradient'] = 'percentile', breakpoint_threshold_amount: Optional[float] = None, number_of_chunks: Optional[int] = None, sentence_split_regex: str = '(?<=[.?!])\\\\s+', min_chunk_size: Optional[int] = None)\n",
      " |      Initialize self.  See help(type(self)) for accurate signature.\n",
      " |  \n",
      " |  create_documents(self, texts: List[str], metadatas: Optional[List[dict]] = None) -> List[langchain_core.documents.base.Document]\n",
      " |      Create documents from a list of texts.\n",
      " |  \n",
      " |  split_documents(self, documents: Iterable[langchain_core.documents.base.Document]) -> List[langchain_core.documents.base.Document]\n",
      " |      Split documents.\n",
      " |  \n",
      " |  split_text(self, text: str) -> List[str]\n",
      " |  \n",
      " |  transform_documents(self, documents: Sequence[langchain_core.documents.base.Document], **kwargs: Any) -> Sequence[langchain_core.documents.base.Document]\n",
      " |      Transform sequence of documents by splitting them.\n",
      " |  \n",
      " |  ----------------------------------------------------------------------\n",
      " |  Data and other attributes defined here:\n",
      " |  \n",
      " |  __abstractmethods__ = frozenset()\n",
      " |  \n",
      " |  __annotations__ = {}\n",
      " |  \n",
      " |  ----------------------------------------------------------------------\n",
      " |  Methods inherited from langchain_core.documents.transformers.BaseDocumentTransformer:\n",
      " |  \n",
      " |  async atransform_documents(self, documents: 'Sequence[Document]', **kwargs: 'Any') -> 'Sequence[Document]'\n",
      " |      Asynchronously transform a list of documents.\n",
      " |      \n",
      " |      Args:\n",
      " |          documents: A sequence of Documents to be transformed.\n",
      " |      \n",
      " |      Returns:\n",
      " |          A sequence of transformed Documents.\n",
      " |  \n",
      " |  ----------------------------------------------------------------------\n",
      " |  Data descriptors inherited from langchain_core.documents.transformers.BaseDocumentTransformer:\n",
      " |  \n",
      " |  __dict__\n",
      " |      dictionary for instance variables (if defined)\n",
      " |  \n",
      " |  __weakref__\n",
      " |      list of weak references to the object (if defined)\n",
      "\n"
     ]
    }
   ],
   "source": [
    "help(SemanticChunker)"
   ]
  },
  {
   "cell_type": "markdown",
   "metadata": {},
   "source": [
    "> LOAD MODEL EMBEDDING"
   ]
  },
  {
   "cell_type": "code",
   "execution_count": 6,
   "metadata": {},
   "outputs": [
    {
     "name": "stdout",
     "output_type": "stream",
     "text": [
      "WARNING:tensorflow:From c:\\Users\\hdang\\.virtualenvs\\machinelearning-lTTH8rYd\\Lib\\site-packages\\keras\\src\\losses.py:2976: The name tf.losses.sparse_softmax_cross_entropy is deprecated. Please use tf.compat.v1.losses.sparse_softmax_cross_entropy instead.\n",
      "\n"
     ]
    }
   ],
   "source": [
    "MODEL_EMBEDDING=os.getenv(\"MODEL_EMBEDDING\")\n",
    "embeddings = HuggingFaceEmbeddings(\n",
    "    model_name=  MODEL_EMBEDDING                                              \n",
    ")"
   ]
  },
  {
   "cell_type": "markdown",
   "metadata": {},
   "source": [
    "> Senmatic Chunking"
   ]
  },
  {
   "cell_type": "code",
   "execution_count": 7,
   "metadata": {},
   "outputs": [],
   "source": [
    "text_splitter = SemanticChunker(\n",
    "    embeddings=embeddings,  \n",
    "    buffer_size=4,  \n",
    "    breakpoint_threshold_type=\"gradient\", \n",
    "    breakpoint_threshold_amount=0.75,  \n",
    "    min_chunk_size=550, \n",
    ")"
   ]
  },
  {
   "cell_type": "markdown",
   "metadata": {},
   "source": [
    "> Execute Sematic Chunking"
   ]
  },
  {
   "cell_type": "code",
   "execution_count": 8,
   "metadata": {},
   "outputs": [],
   "source": [
    "documents_with_embeddings = []\n",
    "for doc in documents:\n",
    "    metadata = {\n",
    "        \"id\": doc[\"id\"],\n",
    "        \"keyword\": doc[\"keyword\"],\n",
    "        \"keyword_sub\": doc[\"keyword_sub\"],\n",
    "        \"word_type\": doc[\"word_type\"],\n",
    "        \"link\": doc[\"link\"]\n",
    "    }\n",
    "    document = Document(page_content=doc[\"content\"], metadata=metadata)\n",
    "    chunks = text_splitter.split_documents([document])\n",
    "    documents_with_embeddings.extend(\n",
    "        Document(page_content=chunk.page_content, metadata=metadata) for chunk in chunks\n",
    "    )\n"
   ]
  },
  {
   "cell_type": "code",
   "execution_count": 9,
   "metadata": {},
   "outputs": [
    {
     "name": "stdout",
     "output_type": "stream",
     "text": [
      "Ví dụ 1:\n",
      "Nội dung chunk: Giá trị lý luận và thực tiễn của tư tưởng Hồ Chí Minh\n",
      "TTXVN giới thiệu bài viết của Phó giáo sư-tiến sỹ Nguyễn Hoàng Giáp với nhan đề “Giá trị lý luận và thực tiễn của tư tưởng Hồ Chí Minh-Vấn đề không thể phủ nhận.”\n",
      "Gần đây, trên một số trang thông tin có đăng tải bài viết với nội dung luận bàn về “Những ảo tưởng của Đảng Cộng sản Việt Nam về tư tưởng Hồ Chí Minh”; hoặc: “Đảng Cộng sản Việt Nam giương cao ngọn cờ tư tưởng Hồ Chí Minh, nhưng chỉ nói mà không làm”... Đây là suy nghĩ của những người thiếu thiện chí, cố tình xuyên tạc đường lối đổi mới do Đảng Cộng sản Việt Nam khởi xướng và lãnh đạo, nhưng lại núp dưới danh nghĩa “tự do ngôn luận, dân chủ, xây dựng, góp ý!?.”\n",
      "Lời nói và hành động của họ bộc lộ thái độ hằn học, động cơ kích động, âm mưu gây mất ổn định chính trị, phá hoại công cuộc xây dựng đất nước của nhân dân ta.\n",
      "Metadata: {'id': 1, 'keyword': 'Tư tưởng Hồ Chí Minh', 'keyword_sub': 'không có nguyên lý', 'word_type': 'động từ tiêu cực', 'link': 'https://www.vietnamplus.vn/gia-tri-ly-luan-va-thuc-tien-cua-tu-tuong-ho-chi-minh-post235139.vnp'}\n",
      "========================================\n",
      "Ví dụ 2:\n",
      "Nội dung chunk: Mặc dầu trong các bài viết, họ cố tình trích dẫn kiểu gọt chân cho vừa giày, cắt xén lời nói của nhân vật này, học giả nọ, để minh chứng cho lời nói của mình là có cơ sở.Tuy nhiên, có thể dễ dàng nhận thấy những nhận định, lập luận mang nặng tư duy suy luận chủ quan, vô căn cứ và thiếu khoa học. Hãy thử xem họ là ai và những gì là sự thật đằng sau lời nói, bài viết của họ! Không cần nói cũng có thể biết tác giả của những bài viết xuyên tạc về tình hình đất nước, bôi nhọ hình ảnh lãnh tụ, kích động, phá hoại đường lối của Đảng, đa phần là những người bất mãn về chính trị, hiện đang sống nhờ bằng những đồng tiền do các thế lực thù địch bên ngoài chu cấp.Một bộ phận khác, không hẳn xuất phát từ động cơ kinh tế, nhưng là những người nhẹ dạ, thiếu hiểu biết, nên bị lợi dụng, trở thành những “cái loa” phát ngôn không công cho lực lượng chống đối chế độ, đi ngược lại lợi ích dân tộc, đất nước.\n",
      "Metadata: {'id': 1, 'keyword': 'Tư tưởng Hồ Chí Minh', 'keyword_sub': 'không có nguyên lý', 'word_type': 'động từ tiêu cực', 'link': 'https://www.vietnamplus.vn/gia-tri-ly-luan-va-thuc-tien-cua-tu-tuong-ho-chi-minh-post235139.vnp'}\n",
      "========================================\n",
      "Ví dụ 3:\n",
      "Nội dung chunk: Tại sao có thể khẳng định như vậy?Bởi vì, không chỉ đơn thuần trên danh nghĩa “tự do ngôn luận” hay có sự “bất đồng quan điểm” (với lý do khác nhau về ý thức hệ) để “nói lấy được,” mà muốn đánh giá hay phê phán về một vấn đề, một con người hoặc một luận thuyết, phải nhìn nhận khách quan từ nhiều phía, đặc biệt là từ góc độ giá trị lịch sử, nhân văn, đạo đức, phải dựa trên những giá trị chuẩn mực truyền thống tốt đẹp của dân tộc.Không thể cứ cao đạo cho rằng, mình là người yêu Tổ quốc, trong khi hành động và lời nói đi ngược lại lợi ích của nhân dân.\n",
      "Metadata: {'id': 1, 'keyword': 'Tư tưởng Hồ Chí Minh', 'keyword_sub': 'không có nguyên lý', 'word_type': 'động từ tiêu cực', 'link': 'https://www.vietnamplus.vn/gia-tri-ly-luan-va-thuc-tien-cua-tu-tuong-ho-chi-minh-post235139.vnp'}\n",
      "========================================\n"
     ]
    }
   ],
   "source": [
    "# Sau khi tạo xong documents_with_embeddings\n",
    "for i in range(min(3, len(documents_with_embeddings))):\n",
    "    document = documents_with_embeddings[i]\n",
    "    print(f\"Ví dụ {i + 1}:\")\n",
    "    print(f\"Nội dung chunk: {document.page_content}\") \n",
    "    print(f\"Metadata: {document.metadata}\")\n",
    "    print(\"=\" * 40)"
   ]
  },
  {
   "cell_type": "markdown",
   "metadata": {},
   "source": [
    "> Create Collection"
   ]
  },
  {
   "cell_type": "code",
   "execution_count": 10,
   "metadata": {},
   "outputs": [],
   "source": [
    "qdrant = QdrantVectorStore.from_documents(\n",
    "    documents=documents_with_embeddings,\n",
    "    embedding=embeddings,  \n",
    "    url=\"http://localhost:6333\",\n",
    "    collection_name=\"document_embeddings_550_word_4_bkai\",\n",
    "    retrieval_mode=RetrievalMode.DENSE,\n",
    "    metadata_payload_key=\"metadata\",\n",
    "    batch_size=512,\n",
    "    timeout=1000 ,\n",
    ")\n"
   ]
  },
  {
   "cell_type": "code",
   "execution_count": 12,
   "metadata": {},
   "outputs": [
    {
     "name": "stdout",
     "output_type": "stream",
     "text": [
      "Kết quả 1:\n",
      "Score: 0.74166125\n",
      "Content: Định nghĩa về tư tưởng Hồ Chí Minh như trên thể hiện bốn nội dung chủ yếu sau:\n",
      "- Tư tưởng Hồ Chí Minh là một hệ thống quan điểm toàn diện và sâu sắc về những vấn đề cơ bản của cách mạng Việt Nam, từ cách mạng dân tộc dân chủ nhân dân đến cách mạng xã hội chủ nghĩa. - Tư tưởng Hồ Chí Minh là kết quả của sự vận dụng sáng tạo và phát triển chủ nghĩa Mác- Lênin vào điều kiện cụ thể của nước ta. - Tư tưởng Hồ Chí Minh là sự kết hợp tinh hoa dân tộc và trí tuệ thời đại nhằm giải phóng dân tộc, giải phóng giai cấp và giải phóng con người. - Tư tưởng Hồ Chí Minh là ngọn cờ thắng lợi của cách mạng Việt Nam trong suốt hơn 70 năm qua và tiếp tục soi sáng con đường chúng ta tiến lên  xây dựng một nước Việt Nam hòa bình, thống nhất, độc lập, dân chủ và xã hội chủ nghĩa, dưới sự lãnh đạo của Đảng cộng sản Việt Nam.\n",
      "Metadata: {'id': 29, 'keyword': 'Tư tưởng Hồ Chí Minh', 'keyword_sub': 'khái quát hóa', 'word_type': 'động từ tích cực', 'link': 'https://thanhnienduongsat.vn/index.php?language=vi&nv=news&op=hoc-tap-dao-duc-ho-chi-minh/chuyen-de-1-khai-niem-nguon-goc-qua-trinh-hinh-thanh-tu-tuong-ho-chi-minh-770.html', '_id': 'c5bd53b3-4b05-4d34-a9c1-5482d4e50304', '_collection_name': 'document_embeddings_550_word_4_bkai'}\n",
      "========================================\n",
      "Kết quả 2:\n",
      "Score: 0.73446363\n",
      "Content: Tư tưởng Hồ Chí Minh soi đường cho cuộc đấu tranh của nhân dân ta giành thắng lợi, là tài sản tinh thần to lớn của Đảng và dân tộc ta”(2). “Tư tưởng Hồ Chí Minh là một hệ thống quan điểm toàn diện và sâu sắc về những vấn đề cơ bản của cách mạng Việt Nam, từ cách mạng dân tộc dân chủ nhân dân đến cách mạng xã hội chủ nghĩa; là kết quả của sự vận dụng sáng tạo và phát triển chủ nghĩa Mác – Lênin vào điều kiện cụ thể của nước ta, đồng thời là sự kết tinh tinh hoa dân tộc và trí tuệ thời đại nhằm giải phóng dân tộc, giải phóng giai cấp và giải phóng con người”(3).\n",
      "Metadata: {'id': 69, 'keyword': 'Tư tưởng Hồ Chí Minh', 'keyword_sub': 'sáng tạo', 'word_type': 'tính từ tích cực', 'link': 'https://vass.gov.vn/nghien-cuu-khoa-hoc-xa-hoi-va-nhan-van/Ve-nhung-cot-loi-trong-tu-tuong-Ho-Chi-Minh-156', '_id': '6a4197f8-13b4-4257-992e-2abbdd1926dd', '_collection_name': 'document_embeddings_550_word_4_bkai'}\n",
      "========================================\n",
      "Kết quả 3:\n",
      "Score: 0.73446363\n",
      "Content: Tư tưởng Hồ Chí Minh soi đường cho cuộc đấu tranh của nhân dân ta giành thắng lợi, là tài sản tinh thần to lớn của Đảng và dân tộc ta”(2). “Tư tưởng Hồ Chí Minh là một hệ thống quan điểm toàn diện và sâu sắc về những vấn đề cơ bản của cách mạng Việt Nam, từ cách mạng dân tộc dân chủ nhân dân đến cách mạng xã hội chủ nghĩa; là kết quả của sự vận dụng sáng tạo và phát triển chủ nghĩa Mác – Lênin vào điều kiện cụ thể của nước ta, đồng thời là sự kết tinh tinh hoa dân tộc và trí tuệ thời đại nhằm giải phóng dân tộc, giải phóng giai cấp và giải phóng con người”(3).\n",
      "Metadata: {'id': 3, 'keyword': 'Tư tưởng Hồ Chí Minh', 'keyword_sub': 'không có nguyên lý', 'word_type': 'động từ tiêu cực', 'link': 'https://vass.gov.vn/nghien-cuu-khoa-hoc-xa-hoi-va-nhan-van/Ve-nhung-cot-loi-trong-tu-tuong-Ho-Chi-Minh-156#:~:text=Nghi%C3%AAn%20c%E1%BB%A9u%20t%C6%B0%20t%C6%B0%E1%BB%9Fng%20H%E1%BB%93%20Ch%C3%AD', '_id': '4e988f48-acc2-4aa9-88e0-e1af14d3b37b', '_collection_name': 'document_embeddings_550_word_4_bkai'}\n",
      "========================================\n",
      "Kết quả 4:\n",
      "Score: 0.73446363\n",
      "Content: Tư tưởng Hồ Chí Minh soi đường cho cuộc đấu tranh của nhân dân ta giành thắng lợi, là tài sản tinh thần to lớn của Đảng và dân tộc ta”(2). “Tư tưởng Hồ Chí Minh là một hệ thống quan điểm toàn diện và sâu sắc về những vấn đề cơ bản của cách mạng Việt Nam, từ cách mạng dân tộc dân chủ nhân dân đến cách mạng xã hội chủ nghĩa; là kết quả của sự vận dụng sáng tạo và phát triển chủ nghĩa Mác – Lênin vào điều kiện cụ thể của nước ta, đồng thời là sự kết tinh tinh hoa dân tộc và trí tuệ thời đại nhằm giải phóng dân tộc, giải phóng giai cấp và giải phóng con người”(3).\n",
      "Metadata: {'id': 58, 'keyword': 'Tư tưởng Hồ Chí Minh', 'keyword_sub': 'cóp nhặt', 'word_type': 'tính từ tiêu cực', 'link': 'https://vass.gov.vn/nghien-cuu-khoa-hoc-xa-hoi-va-nhan-van/Ve-nhung-cot-loi-trong-tu-tuong-Ho-Chi-Minh-156', '_id': 'e328b7ff-3dde-45cd-afd4-88659640dcd2', '_collection_name': 'document_embeddings_550_word_4_bkai'}\n",
      "========================================\n",
      "Kết quả 5:\n",
      "Score: 0.71103203\n",
      "Content: Thấm nhuần, vận dụng đúng đắn, sáng tạo tư tưởng Hồ Chí Minh là nhân tố tinh thần to lớn của toàn Đảng, toàn dân, toàn quân trong xây dựng và bảo vệ Tổ quốc.Tư tưởng Hồ Chí Minh là sự kết hợp nhuần nhuyễn trí tuệ thiên tài của lý luận Mác - Lê-nin với truyền thống tốt đẹp của dân tộc, tinh hoa văn hoá nhân loại được vận dụng và phát triển sáng tạo vào hoàn cảnh cụ thể của cách mạng Việt Nam, để hoạch định đường lối và phương pháp cách mạng đúng đăn trong từng giai đoạn, từng thời kỳ và từng thời điểm cụ thể. Nhờ có dự báo thiên tài, Chủ tịch Hồ Chí Minh còn chỉ dẫn bước đi để dân tộc ta vượt qua mọi hiểm nguy, thử thách, giành thắng lợi từng bước và hướng tới tương lai.\n",
      "Metadata: {'id': 34, 'keyword': 'Tư tưởng Hồ Chí Minh', 'keyword_sub': 'khai thác', 'word_type': 'động từ tích cực', 'link': 'https://tulieuvankien.dangcongsan.vn/print/2386/khai-thac-sau-sac-tinh-nhan-van-dao-duc-cach-mang-trong-giao-duc-tu-tuong-ho-chi-minh', '_id': '733cb0df-e37f-49fa-9fdd-b0f992167db1', '_collection_name': 'document_embeddings_550_word_4_bkai'}\n",
      "========================================\n"
     ]
    }
   ],
   "source": [
    "query=\"Tư tưởng hồ chí minh là gì ?\"\n",
    "result=qdrant.similarity_search_with_score(query,k=5)\n",
    "for i,(document,score) in enumerate(result):\n",
    "    print(f\"Kết quả {i+1}:\")\n",
    "    print(f\"Score: {score}\")\n",
    "    print(f\"Content: {document.page_content}\")\n",
    "    print(f\"Metadata: {document.metadata}\")\n",
    "    print(\"=\" * 40)"
   ]
  },
  {
   "cell_type": "code",
   "execution_count": null,
   "metadata": {},
   "outputs": [],
   "source": []
  }
 ],
 "metadata": {
  "kernelspec": {
   "display_name": "machinelearning-lTTH8rYd",
   "language": "python",
   "name": "python3"
  },
  "language_info": {
   "codemirror_mode": {
    "name": "ipython",
    "version": 3
   },
   "file_extension": ".py",
   "mimetype": "text/x-python",
   "name": "python",
   "nbconvert_exporter": "python",
   "pygments_lexer": "ipython3",
   "version": "3.11.5"
  }
 },
 "nbformat": 4,
 "nbformat_minor": 2
}
